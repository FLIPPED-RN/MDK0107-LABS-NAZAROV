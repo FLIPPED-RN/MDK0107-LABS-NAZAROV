{
 "cells": [
  {
   "cell_type": "code",
   "id": "initial_id",
   "metadata": {
    "collapsed": true,
    "ExecuteTime": {
     "end_time": "2025-10-24T11:07:23.429322Z",
     "start_time": "2025-10-24T11:07:23.417414Z"
    }
   },
   "source": [
    "import numpy as np\n",
    "a = np.array([[1,2,3], [4,5,6], [7,8,9]])\n",
    "a"
   ],
   "outputs": [
    {
     "data": {
      "text/plain": [
       "array([[1, 2, 3],\n",
       "       [4, 5, 6],\n",
       "       [7, 8, 9]])"
      ]
     },
     "execution_count": 25,
     "metadata": {},
     "output_type": "execute_result"
    }
   ],
   "execution_count": 25
  },
  {
   "metadata": {
    "ExecuteTime": {
     "end_time": "2025-10-24T11:07:23.467885Z",
     "start_time": "2025-10-24T11:07:23.461837Z"
    }
   },
   "cell_type": "code",
   "source": "np.array(a)",
   "id": "7c4f3e7e5431c11b",
   "outputs": [
    {
     "data": {
      "text/plain": [
       "array([[1, 2, 3],\n",
       "       [4, 5, 6],\n",
       "       [7, 8, 9]])"
      ]
     },
     "execution_count": 26,
     "metadata": {},
     "output_type": "execute_result"
    }
   ],
   "execution_count": 26
  },
  {
   "metadata": {
    "ExecuteTime": {
     "end_time": "2025-10-24T11:07:23.738361Z",
     "start_time": "2025-10-24T11:07:23.732768Z"
    }
   },
   "cell_type": "code",
   "source": [
    "my_matrix=[[1,2,3], [4,5,6], [7,8,9]]\n",
    "my_matrix"
   ],
   "id": "50f99d2231358206",
   "outputs": [
    {
     "data": {
      "text/plain": [
       "[[1, 2, 3], [4, 5, 6], [7, 8, 9]]"
      ]
     },
     "execution_count": 27,
     "metadata": {},
     "output_type": "execute_result"
    }
   ],
   "execution_count": 27
  },
  {
   "metadata": {
    "ExecuteTime": {
     "end_time": "2025-10-24T11:07:23.800594Z",
     "start_time": "2025-10-24T11:07:23.791748Z"
    }
   },
   "cell_type": "code",
   "source": "np.array(my_matrix)",
   "id": "fa20f2db270ed95e",
   "outputs": [
    {
     "data": {
      "text/plain": [
       "array([[1, 2, 3],\n",
       "       [4, 5, 6],\n",
       "       [7, 8, 9]])"
      ]
     },
     "execution_count": 28,
     "metadata": {},
     "output_type": "execute_result"
    }
   ],
   "execution_count": 28
  },
  {
   "metadata": {
    "ExecuteTime": {
     "end_time": "2025-10-24T11:07:23.878843Z",
     "start_time": "2025-10-24T11:07:23.872930Z"
    }
   },
   "cell_type": "code",
   "source": [
    "#arange\n",
    "np.arange(0,10)"
   ],
   "id": "30016acfa87201b6",
   "outputs": [
    {
     "data": {
      "text/plain": [
       "array([0, 1, 2, 3, 4, 5, 6, 7, 8, 9])"
      ]
     },
     "execution_count": 29,
     "metadata": {},
     "output_type": "execute_result"
    }
   ],
   "execution_count": 29
  },
  {
   "metadata": {
    "ExecuteTime": {
     "end_time": "2025-10-24T11:07:24.001890Z",
     "start_time": "2025-10-24T11:07:23.995808Z"
    }
   },
   "cell_type": "code",
   "source": "np.arange(0,11,2)",
   "id": "72c24b2ead93e176",
   "outputs": [
    {
     "data": {
      "text/plain": [
       "array([ 0,  2,  4,  6,  8, 10])"
      ]
     },
     "execution_count": 30,
     "metadata": {},
     "output_type": "execute_result"
    }
   ],
   "execution_count": 30
  },
  {
   "metadata": {
    "ExecuteTime": {
     "end_time": "2025-10-24T11:07:24.078787Z",
     "start_time": "2025-10-24T11:07:24.069455Z"
    }
   },
   "cell_type": "code",
   "source": "np.zeros((2,3))",
   "id": "bb7093f661e3b3c1",
   "outputs": [
    {
     "data": {
      "text/plain": [
       "array([[0., 0., 0.],\n",
       "       [0., 0., 0.]])"
      ]
     },
     "execution_count": 31,
     "metadata": {},
     "output_type": "execute_result"
    }
   ],
   "execution_count": 31
  },
  {
   "metadata": {
    "ExecuteTime": {
     "end_time": "2025-10-24T11:07:24.171059Z",
     "start_time": "2025-10-24T11:07:24.165616Z"
    }
   },
   "cell_type": "code",
   "source": "np.ones((2,3))",
   "id": "67a49f019a77c910",
   "outputs": [
    {
     "data": {
      "text/plain": [
       "array([[1., 1., 1.],\n",
       "       [1., 1., 1.]])"
      ]
     },
     "execution_count": 32,
     "metadata": {},
     "output_type": "execute_result"
    }
   ],
   "execution_count": 32
  },
  {
   "metadata": {
    "ExecuteTime": {
     "end_time": "2025-10-24T11:07:24.480950Z",
     "start_time": "2025-10-24T11:07:24.476545Z"
    }
   },
   "cell_type": "code",
   "source": "np.ones(5)",
   "id": "4f47471d10bca694",
   "outputs": [
    {
     "data": {
      "text/plain": [
       "array([1., 1., 1., 1., 1.])"
      ]
     },
     "execution_count": 33,
     "metadata": {},
     "output_type": "execute_result"
    }
   ],
   "execution_count": 33
  },
  {
   "metadata": {
    "ExecuteTime": {
     "end_time": "2025-10-24T11:07:24.528954Z",
     "start_time": "2025-10-24T11:07:24.522959Z"
    }
   },
   "cell_type": "code",
   "source": "np.linspace(0, 10, 4)",
   "id": "1ea55fd8af069b33",
   "outputs": [
    {
     "data": {
      "text/plain": [
       "array([ 0.        ,  3.33333333,  6.66666667, 10.        ])"
      ]
     },
     "execution_count": 34,
     "metadata": {},
     "output_type": "execute_result"
    }
   ],
   "execution_count": 34
  },
  {
   "metadata": {
    "ExecuteTime": {
     "end_time": "2025-10-24T11:07:24.578834Z",
     "start_time": "2025-10-24T11:07:24.574091Z"
    }
   },
   "cell_type": "code",
   "source": "np.linspace(0,5,20)",
   "id": "2f0f2230b661f6d7",
   "outputs": [
    {
     "data": {
      "text/plain": [
       "array([0.        , 0.26315789, 0.52631579, 0.78947368, 1.05263158,\n",
       "       1.31578947, 1.57894737, 1.84210526, 2.10526316, 2.36842105,\n",
       "       2.63157895, 2.89473684, 3.15789474, 3.42105263, 3.68421053,\n",
       "       3.94736842, 4.21052632, 4.47368421, 4.73684211, 5.        ])"
      ]
     },
     "execution_count": 35,
     "metadata": {},
     "output_type": "execute_result"
    }
   ],
   "execution_count": 35
  },
  {
   "metadata": {
    "ExecuteTime": {
     "end_time": "2025-10-24T11:07:24.614974Z",
     "start_time": "2025-10-24T11:07:24.608407Z"
    }
   },
   "cell_type": "code",
   "source": "np.linspace(0,5,21)",
   "id": "6c7458d21ac7d3db",
   "outputs": [
    {
     "data": {
      "text/plain": [
       "array([0.  , 0.25, 0.5 , 0.75, 1.  , 1.25, 1.5 , 1.75, 2.  , 2.25, 2.5 ,\n",
       "       2.75, 3.  , 3.25, 3.5 , 3.75, 4.  , 4.25, 4.5 , 4.75, 5.  ])"
      ]
     },
     "execution_count": 36,
     "metadata": {},
     "output_type": "execute_result"
    }
   ],
   "execution_count": 36
  },
  {
   "metadata": {
    "ExecuteTime": {
     "end_time": "2025-10-24T11:07:24.667229Z",
     "start_time": "2025-10-24T11:07:24.661845Z"
    }
   },
   "cell_type": "code",
   "source": "np.eye(4)",
   "id": "8da2241cbe880dc1",
   "outputs": [
    {
     "data": {
      "text/plain": [
       "array([[1., 0., 0., 0.],\n",
       "       [0., 1., 0., 0.],\n",
       "       [0., 0., 1., 0.],\n",
       "       [0., 0., 0., 1.]])"
      ]
     },
     "execution_count": 37,
     "metadata": {},
     "output_type": "execute_result"
    }
   ],
   "execution_count": 37
  },
  {
   "metadata": {
    "ExecuteTime": {
     "end_time": "2025-10-24T11:07:24.792202Z",
     "start_time": "2025-10-24T11:07:24.785118Z"
    }
   },
   "cell_type": "code",
   "source": "np.random.randint(1,100)",
   "id": "230efbdcd08d3cad",
   "outputs": [
    {
     "data": {
      "text/plain": [
       "80"
      ]
     },
     "execution_count": 38,
     "metadata": {},
     "output_type": "execute_result"
    }
   ],
   "execution_count": 38
  },
  {
   "metadata": {
    "ExecuteTime": {
     "end_time": "2025-10-24T11:07:24.929220Z",
     "start_time": "2025-10-24T11:07:24.922622Z"
    }
   },
   "cell_type": "code",
   "source": "np.random.randint(1,100,20)",
   "id": "8f976bf0062eac12",
   "outputs": [
    {
     "data": {
      "text/plain": [
       "array([65, 17,  2, 77, 72,  7, 26, 51, 21, 19, 85, 12, 29, 30, 15, 51, 69,\n",
       "       88, 88, 95], dtype=int32)"
      ]
     },
     "execution_count": 39,
     "metadata": {},
     "output_type": "execute_result"
    }
   ],
   "execution_count": 39
  },
  {
   "metadata": {
    "ExecuteTime": {
     "end_time": "2025-10-24T11:07:24.997140Z",
     "start_time": "2025-10-24T11:07:24.992277Z"
    }
   },
   "cell_type": "code",
   "source": [
    "np.random.seed(1)\n",
    "np.random.rand(4)"
   ],
   "id": "6390de65e8d4fd2a",
   "outputs": [
    {
     "data": {
      "text/plain": [
       "array([4.17022005e-01, 7.20324493e-01, 1.14374817e-04, 3.02332573e-01])"
      ]
     },
     "execution_count": 40,
     "metadata": {},
     "output_type": "execute_result"
    }
   ],
   "execution_count": 40
  }
 ],
 "metadata": {
  "kernelspec": {
   "display_name": "Python 3",
   "language": "python",
   "name": "python3"
  },
  "language_info": {
   "codemirror_mode": {
    "name": "ipython",
    "version": 2
   },
   "file_extension": ".py",
   "mimetype": "text/x-python",
   "name": "python",
   "nbconvert_exporter": "python",
   "pygments_lexer": "ipython2",
   "version": "2.7.6"
  }
 },
 "nbformat": 4,
 "nbformat_minor": 5
}
