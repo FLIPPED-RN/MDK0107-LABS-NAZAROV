{
 "cells": [
  {
   "metadata": {},
   "cell_type": "markdown",
   "source": "# Известны оценки по информатике каждого из 22 учеников класса. Определить количество пятерок.",
   "id": "8a77807f92f26ee",
   "attachments": {
    "c8c049da-2894-4d06-a6ef-bedd1f3967d4.png": {
     "image/png": "[encoded data removed]"
    },
    "09b62b48-e5c9-4d2a-87f8-855bfa2e7479.png": {
     "image/png": "[encoded data removed]"
    }
   }
  },
  {
   "metadata": {
    "ExecuteTime": {
     "end_time": "2025-10-10T12:37:28.298158Z",
     "start_time": "2025-10-10T12:37:28.290557Z"
    }
   },
   "cell_type": "code",
   "source": [
    "import random\n",
    "\n",
    "marks = tuple(random.randint(2, 5) for _ in range(22))\n",
    "print(\"Оценки:\", marks)\n",
    "\n",
    "count_fives=marks.count(5)\n",
    "print(\"количество 5: \" + str(count_fives))"
   ],
   "id": "fbc121e30a2defb3",
   "outputs": [
    {
     "name": "stdout",
     "output_type": "stream",
     "text": [
      "Оценки: (3, 3, 3, 2, 5, 3, 2, 4, 4, 5, 3, 2, 3, 3, 4, 4, 3, 3, 2, 2, 2, 2)\n",
      "количество 5: 2\n"
     ]
    }
   ],
   "execution_count": 17
  },
  {
   "metadata": {},
   "cell_type": "markdown",
   "source": "# Дан двумерный массив. Определить максимальный номер строки, состоящей только и элементов, кратных числу a",
   "id": "e95979b3372be341",
   "attachments": {
    "25be0240-258e-4db4-8559-c4ab999c3e44.png": {
     "image/png": "[encoded data removed]"
    },
    "fff052a6-cc8e-4a6e-ab39-4357f452d819.png": {
     "image/png": "[encoded data removed]"
    },
    "d0cbc017-24de-4446-8e46-716567778849.png": {
     "image/png": "[encoded data removed]"
    },
    "375d79ed-4de3-46d1-b8ea-4f6ae5d30eda.png": {
     "image/png": "[encoded data removed]"
    },
    "0d138f8a-f894-4697-a5f4-42dc65718a77.png": {
     "image/png": "[encoded data removed]"
    }
   }
  },
  {
   "metadata": {
    "ExecuteTime": {
     "end_time": "2025-10-10T11:28:58.350808Z",
     "start_time": "2025-10-10T11:28:58.345423Z"
    }
   },
   "cell_type": "code",
   "source": [
    "rows = random.randint(4, 7)\n",
    "cols = random.randint(3, 6)\n",
    "a = random.randint(2, 5)\n",
    "\n",
    "matrix = tuple(\n",
    "    tuple(random.randint(0, 20) for _ in range(cols))\n",
    "    for _ in range(rows)\n",
    ")\n",
    "\n",
    "print(f\"Число a = {a}\")\n",
    "print(\"Матрица:\")\n",
    "for row in matrix:\n",
    "    print(row)\n",
    "\n",
    "max_row_index = -1\n",
    "for i, row in enumerate(matrix):\n",
    "    if all(x % a == 0 for x in row):\n",
    "        max_row_index = i\n",
    "\n",
    "if max_row_index != -1:\n",
    "    print(\"максимальный номер строки (с 0):\", max_row_index)\n",
    "    print(\"если считать с 1 — это строка №\", max_row_index + 1)\n",
    "else:\n",
    "    print(\"нет строк, где все элементы кратны\", a)"
   ],
   "id": "76407a114bcd14f2",
   "outputs": [
    {
     "name": "stdout",
     "output_type": "stream",
     "text": [
      "Максимальный номер строки, где все элементы кратны 3 : 2\n"
     ]
    }
   ],
   "execution_count": 3
  },
  {
   "metadata": {},
   "cell_type": "markdown",
   "source": "# Дан список чисел. Если в нем есть два соседних элемента одного знака, выведите эти числа. Если соседних элементов одного знака нет - не выводите ничего. Если таких пар соседей несколько - выведите первую пару.",
   "id": "20fdbe8ea17551fd",
   "attachments": {
    "c2e6b009-2d7f-49a6-9403-ec95a40c3edc.png": {
     "image/png": "[encoded data removed]"
    },
    "44652fca-529d-4aab-a925-6c7ab639f6db.png": {
     "image/png": "[encoded data removed]"
    },
    "fbfd0336-b33e-4296-a9e8-ce4119fec4f4.png": {
     "image/png": "[encoded data removed]"
    },
    "cc5b7a4f-8928-4ee1-860b-ca31efdd3631.png": {
     "image/png": "[encoded data removed]"
    }
   }
  },
  {
   "metadata": {
    "ExecuteTime": {
     "end_time": "2025-10-10T11:31:45.396526Z",
     "start_time": "2025-10-10T11:31:45.389202Z"
    }
   },
   "cell_type": "code",
   "source": [
    "nums = [random.randint(-9, 9) for _ in range(random.randint(10, 15))]\n",
    "print(\"список:\", nums)\n",
    "\n",
    "for i in range(len(nums) - 1):\n",
    "    if nums[i] * nums[i + 1] > 0:\n",
    "        print(\"первая пара соседей одного знака:\", nums[i], \"и\", nums[i + 1])\n",
    "        break\n",
    "else:\n",
    "    print(\"нет соседей одного знака\")"
   ],
   "id": "7cff0333006fe0d9",
   "outputs": [
    {
     "name": "stdout",
     "output_type": "stream",
     "text": [
      "первая пара соседей одного знака: 2 4\n"
     ]
    }
   ],
   "execution_count": 5
  },
  {
   "metadata": {},
   "cell_type": "markdown",
   "source": "# Во входной строке записана последовательность чисел через пробел. Для каждого числа выведите слово YES (в отдельной строке), если это число ранее встречалось в последовательности или NO, если не встречалось.",
   "id": "4b308d03745384db"
  },
  {
   "metadata": {
    "ExecuteTime": {
     "end_time": "2025-10-10T11:32:50.191730Z",
     "start_time": "2025-10-10T11:32:45.179821Z"
    }
   },
   "cell_type": "code",
   "source": [
    "numbers = [str(random.randint(1, 9)) for _ in range(random.randint(10, 15))]\n",
    "print(\"Последовательность:\", \" \".join(numbers))\n",
    "\n",
    "seen = set()\n",
    "\n",
    "for num in numbers:\n",
    "    if num in seen:\n",
    "        print(\"YES\")\n",
    "    else:\n",
    "        print(\"NO\")\n",
    "        seen.add(num)"
   ],
   "id": "7ae3709b04c63bd",
   "outputs": [
    {
     "name": "stdout",
     "output_type": "stream",
     "text": [
      "NO\n",
      "NO\n",
      "NO\n",
      "YES\n",
      "YES\n",
      "YES\n"
     ]
    }
   ],
   "execution_count": 7
  },
  {
   "metadata": {},
   "cell_type": "markdown",
   "source": "# Дан текст: в первой строке задано число строк, далее идут сами строки. Выведите слово, которое в этом тексте встречается чаще всего. Если таких слов несколько, выведите то, которое меньше в лексикографическом порядке.",
   "id": "7fd76f04097d64ac"
  },
  {
   "metadata": {
    "ExecuteTime": {
     "end_time": "2025-10-10T12:44:28.440531Z",
     "start_time": "2025-10-10T12:44:28.428061Z"
    }
   },
   "cell_type": "code",
   "source": [
    "words = ['python', 'java', 'rust', 'kotlin', 'swift', 'js', 'golang']\n",
    "n = random.randint(3, 6)\n",
    "\n",
    "lines = []\n",
    "for _ in range(n):\n",
    "    line = ' '.join(random.choice(words) for _ in range(random.randint(4, 8)))\n",
    "    lines.append(line)\n",
    "\n",
    "print(\"Количество строк:\", n)\n",
    "print(\"Текст:\")\n",
    "for line in lines:\n",
    "    print(line)\n",
    "\n",
    "words_count = {}\n",
    "for line in lines:\n",
    "    for word in line.split():\n",
    "        words_count[word] = words_count.get(word, 0) + 1\n",
    "\n",
    "max_count = max(words_count.values())\n",
    "most_common = [w for w, c in words_count.items() if c == max_count]\n",
    "answer = min(most_common)\n",
    "\n",
    "print(\"Частоты слов:\", words_count)\n",
    "print(\"Самое частое слово:\", answer)"
   ],
   "id": "a9d35ccf1cc59e1b",
   "outputs": [
    {
     "name": "stdout",
     "output_type": "stream",
     "text": [
      "Количество строк: 3\n",
      "Текст:\n",
      "kotlin golang rust js python\n",
      "rust python python js js python swift kotlin\n",
      "js java python swift\n",
      "Частоты слов: {'kotlin': 2, 'golang': 1, 'rust': 2, 'js': 4, 'python': 5, 'swift': 2, 'java': 1}\n",
      "Самое частое слово: python\n"
     ]
    }
   ],
   "execution_count": 30
  }
 ],
 "metadata": {
  "kernelspec": {
   "display_name": "Python 3",
   "language": "python",
   "name": "python3"
  },
  "language_info": {
   "codemirror_mode": {
    "name": "ipython",
    "version": 2
   },
   "file_extension": ".py",
   "mimetype": "text/x-python",
   "name": "python",
   "nbconvert_exporter": "python",
   "pygments_lexer": "ipython2",
   "version": "2.7.6"
  }
 },
 "nbformat": 4,
 "nbformat_minor": 5
}
